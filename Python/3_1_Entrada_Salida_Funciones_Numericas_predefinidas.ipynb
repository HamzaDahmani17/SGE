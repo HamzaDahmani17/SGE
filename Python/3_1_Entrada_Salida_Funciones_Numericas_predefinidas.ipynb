{
 "cells": [
  {
   "cell_type": "markdown",
   "id": "f5a4b9c0",
   "metadata": {
    "id": "f5a4b9c0",
    "slideshow": {
     "slide_type": "slide"
    }
   },
   "source": [
    "## 1. Particularidades de los tipos de datos en Python \n",
    "---"
   ]
  },
  {
   "cell_type": "markdown",
   "id": "5e1e6307",
   "metadata": {
    "id": "5e1e6307",
    "slideshow": {
     "slide_type": "subslide"
    }
   },
   "source": [
    "Como hemos visto, una variable es un espacio donde guardar una determinada información. En función del tipo de información que almacenemos la variable será de un tipo o de otro.  \n",
    "\n",
    "---\n",
    "\n",
    "![tipos_datos.PNG](https://drive.google.com/uc?id=1Bm-TfTX_jrjpxqPzYxktPfGvBO-kch1h)\n",
    "\n",
    "---"
   ]
  },
  {
   "cell_type": "markdown",
   "id": "3825a4ff",
   "metadata": {
    "id": "3825a4ff",
    "slideshow": {
     "slide_type": "subslide"
    }
   },
   "source": [
    "**Recuerda que en python:**  \n",
    "\n",
    "* **Tipos Dinámicos.** No requere que se defina el tipo de una variable. \n",
    "* **Fuertemente Tipado.** Exiten operaciones que no están permitidas entre tipos que no son compatibles.\n",
    "* **Los tipos son Clases.** En python todos sus elementos son clases y los datos una vez identificados, se convierten en objetos instanciados del tipo al que pertenecen."
   ]
  },
  {
   "cell_type": "markdown",
   "id": "2c706b05",
   "metadata": {
    "id": "2c706b05",
    "slideshow": {
     "slide_type": "slide"
    }
   },
   "source": [
    "## 2. Comentarios\n",
    "___\n",
    "\n",
    "Documentar nuestro código desde el principio es **más importante** de lo que la mayoría de los nuevos desarrolladores creen.  \n",
    "\n",
    "* La documentación en el desarrollo de software se refiere a la idea de dar a nuestras variables, funciones, métodos, clases y\n",
    "otros identificadores, **nombres descriptivos.**  \n",
    "\n",
    "* También se refiere a **agregar buenos comentarios explicativos.** Cuando estas sumergido en el desarrollo de tu última creación, es fácil crear variables y funciones sin explicaciones. Un mes o un año más tarde, cuando inevitablemente regresemos a nuestro código, **pasaremos una cantidad excesiva de tiempo tratando de averiguar qué hace ese código.**  \n",
    "\n",
    "* Haciendo que nuestro código sea autodocumentado (es decir, usando nombres descriptivos) y agregando comentarios cuando sea necesario, haremos que el código sea más legible para nosotros y para cualquier otra persona que pueda usar tu codigo.  \n",
    "\n",
    "* ¡Esto también hará que actualizar nuestro código y refactorizarlo **sea más fácil**!"
   ]
  },
  {
   "cell_type": "markdown",
   "id": "347af980",
   "metadata": {
    "id": "347af980",
    "slideshow": {
     "slide_type": "subslide"
    }
   },
   "source": [
    "### 2.1 Comentarios de 1 línea.  \n",
    "\n",
    "Utilizamos la almohadilla para añadir un comentario de una única línea"
   ]
  },
  {
   "cell_type": "code",
   "execution_count": null,
   "id": "5207b4bf",
   "metadata": {
    "id": "5207b4bf",
    "slideshow": {
     "slide_type": "fragment"
    }
   },
   "outputs": [],
   "source": [
    "#esto es un comentario\n",
    "a = 14\n",
    "b = 5\n",
    "a // b #esto es otro comentario de prueba "
   ]
  },
  {
   "cell_type": "markdown",
   "id": "e0efcff2",
   "metadata": {
    "id": "e0efcff2",
    "slideshow": {
     "slide_type": "subslide"
    }
   },
   "source": [
    "### 2.2 Comentarios de varias líneas.  \n",
    "\n",
    "A este tipo de comentarios se les suele llamar **\"Cadenas de documentación\"** o **Docstring**  \n",
    "Lo hacemos encerrando entre triples comillas dobles el texto a comentar:  \n",
    "\n",
    "\"\"\"Esto es un es un comentario  \n",
    "de varias líneas  \n",
    "para realizar pruebas  \n",
    "\"\"\"\n",
    "\n",
    "**Nota:**  \n",
    "Las \"\"\" con las que finaliza un DocString, **deberian situarse en una línea separada, y preferiblemente estar en una línea en blanco.**\n",
    "\n"
   ]
  },
  {
   "cell_type": "code",
   "execution_count": null,
   "id": "7f002eb1",
   "metadata": {
    "id": "7f002eb1",
    "slideshow": {
     "slide_type": "fragment"
    }
   },
   "outputs": [],
   "source": [
    "\"\"\"\n",
    "Esto es un es un comentario\n",
    "de varias líneas\n",
    "para realizar pruebas\n",
    "Vamos a realizar la división entera de dos números\n",
    "\"\"\"\n",
    "a = 14\n",
    "b = 5\n",
    "a // b #esto es otro comentario de prueba"
   ]
  },
  {
   "cell_type": "markdown",
   "id": "4f2bdc7a",
   "metadata": {
    "id": "4f2bdc7a",
    "slideshow": {
     "slide_type": "fragment"
    }
   },
   "source": [
    "**Es Importante que escribas docstrings para todos los módulos, funciones, clases y métodos.**  \n",
    "\n"
   ]
  },
  {
   "cell_type": "markdown",
   "id": "96272c9b",
   "metadata": {
    "id": "96272c9b",
    "slideshow": {
     "slide_type": "slide"
    }
   },
   "source": [
    "## 3. Funciones Built-in para trabajar con números\n",
    "___\n",
    "El intérprete de Python tiene una serie de funciones y tipos incluidos en él que están siempre disponibles.\n",
    "Puedes encontrarlas todas en el siguiente enlace: https://docs.python.org/es/3/library/functions.html\n",
    "\n",
    "Nosotros vamos a ver alguna de ellas..."
   ]
  },
  {
   "cell_type": "markdown",
   "id": "07a3aacf",
   "metadata": {
    "id": "07a3aacf",
    "slideshow": {
     "slide_type": "subslide"
    }
   },
   "source": [
    "**len()**  \n",
    "Retorna el tamaño (el número de elementos) de un objeto."
   ]
  },
  {
   "cell_type": "code",
   "execution_count": 1,
   "id": "793b9f4e",
   "metadata": {
    "id": "793b9f4e",
    "slideshow": {
     "slide_type": "fragment"
    }
   },
   "outputs": [
    {
     "name": "stdout",
     "output_type": "stream",
     "text": [
      "10\n"
     ]
    },
    {
     "data": {
      "text/plain": [
       "3"
      ]
     },
     "execution_count": 1,
     "metadata": {},
     "output_type": "execute_result"
    }
   ],
   "source": [
    "a = \"Hola mundo\"\n",
    "print(len(a))\n",
    "\n",
    "lista = [1, 2, 3]\n",
    "len(lista)"
   ]
  },
  {
   "cell_type": "code",
   "execution_count": 2,
   "id": "1a086034",
   "metadata": {
    "id": "1a086034",
    "slideshow": {
     "slide_type": "fragment"
    }
   },
   "outputs": [
    {
     "data": {
      "text/plain": [
       "list"
      ]
     },
     "execution_count": 2,
     "metadata": {},
     "output_type": "execute_result"
    }
   ],
   "source": [
    "type(lista)"
   ]
  },
  {
   "cell_type": "markdown",
   "id": "0ff72afb",
   "metadata": {
    "id": "0ff72afb",
    "slideshow": {
     "slide_type": "subslide"
    }
   },
   "source": [
    "**abs()**  \n",
    "Devuelve el valor absoluto de un número entero o en coma flotante"
   ]
  },
  {
   "cell_type": "code",
   "execution_count": 4,
   "id": "897597de",
   "metadata": {
    "id": "897597de",
    "slideshow": {
     "slide_type": "fragment"
    }
   },
   "outputs": [
    {
     "data": {
      "text/plain": [
       "8.45"
      ]
     },
     "execution_count": 4,
     "metadata": {},
     "output_type": "execute_result"
    }
   ],
   "source": [
    "a = -8.45\n",
    "abs(a)"
   ]
  },
  {
   "cell_type": "code",
   "execution_count": null,
   "id": "4aaa18ed",
   "metadata": {
    "id": "4aaa18ed",
    "slideshow": {
     "slide_type": "fragment"
    }
   },
   "outputs": [],
   "source": []
  },
  {
   "cell_type": "markdown",
   "id": "bec61bcb",
   "metadata": {
    "id": "bec61bcb",
    "slideshow": {
     "slide_type": "subslide"
    }
   },
   "source": [
    "**bin()**  \n",
    "\n",
    "Convierte entero a binario"
   ]
  },
  {
   "cell_type": "code",
   "execution_count": 13,
   "id": "50fabcc3",
   "metadata": {
    "id": "50fabcc3",
    "slideshow": {
     "slide_type": "fragment"
    }
   },
   "outputs": [
    {
     "name": "stdout",
     "output_type": "stream",
     "text": [
      "0b10\n",
      "2\n"
     ]
    }
   ],
   "source": [
    "a = 2\n",
    "c = bin(a)\n",
    "print(c)\n",
    "\n"
   ]
  },
  {
   "cell_type": "code",
   "execution_count": 9,
   "id": "5e31a52c",
   "metadata": {
    "id": "5e31a52c",
    "slideshow": {
     "slide_type": "fragment"
    }
   },
   "outputs": [
    {
     "name": "stdout",
     "output_type": "stream",
     "text": [
      "0b1000\n",
      "8\n"
     ]
    }
   ],
   "source": [
    "a = 8\n",
    "binario=bin(a)\n",
    "print(binario)\n",
    "#Conversión de binario a decimal\n",
    "decimal=int(binario,2)\n",
    "print(decimal)"
   ]
  },
  {
   "cell_type": "code",
   "execution_count": 10,
   "id": "896ae55f",
   "metadata": {},
   "outputs": [
    {
     "name": "stdout",
     "output_type": "stream",
     "text": [
      "0o10\n",
      "Decimal:  8\n"
     ]
    }
   ],
   "source": [
    "a = 8\n",
    "c = oct(a)\n",
    "\n",
    "#Conversión de octal a decimal\n",
    "octal=oct(a)\n",
    "print(octal)\n",
    "decimal=int(octal,8)\n",
    "print(\"Decimal: \",decimal)"
   ]
  },
  {
   "cell_type": "code",
   "execution_count": 13,
   "id": "801aada6",
   "metadata": {},
   "outputs": [
    {
     "name": "stdout",
     "output_type": "stream",
     "text": [
      "0x14\n",
      "hexadecimal:  20\n"
     ]
    }
   ],
   "source": [
    "a = 20\n",
    "c = hex(a)\n",
    "\n",
    "#Conversión de hexadecimal a decimal\n",
    "hexadecimal=hex(a)\n",
    "print(hexadecimal)\n",
    "decimal=int(hexadecimal,16)\n",
    "print(\"hexadecimal: \",decimal)"
   ]
  },
  {
   "cell_type": "markdown",
   "id": "88cc1a0d",
   "metadata": {
    "id": "88cc1a0d",
    "slideshow": {
     "slide_type": "subslide"
    }
   },
   "source": [
    "**divmod()**  \n",
    "\n",
    "Recibe dos parámetros, (dividendo y divisor), y devuelve dos valores: resultado de la división entera y el resto."
   ]
  },
  {
   "cell_type": "code",
   "execution_count": 14,
   "id": "dc442ce6",
   "metadata": {
    "id": "dc442ce6",
    "slideshow": {
     "slide_type": "fragment"
    }
   },
   "outputs": [
    {
     "data": {
      "text/plain": [
       "(12, 0)"
      ]
     },
     "execution_count": 14,
     "metadata": {},
     "output_type": "execute_result"
    }
   ],
   "source": [
    "a = 24\n",
    "divmod(a,2)"
   ]
  },
  {
   "cell_type": "markdown",
   "id": "7a211f47",
   "metadata": {
    "id": "7a211f47",
    "slideshow": {
     "slide_type": "subslide"
    }
   },
   "source": [
    "**float()**  \n",
    "\n",
    "Devuelve un número en coma flotante"
   ]
  },
  {
   "cell_type": "code",
   "execution_count": null,
   "id": "ff004268",
   "metadata": {
    "id": "ff004268",
    "slideshow": {
     "slide_type": "fragment"
    }
   },
   "outputs": [],
   "source": []
  },
  {
   "cell_type": "code",
   "execution_count": null,
   "id": "ab0d6444",
   "metadata": {
    "id": "ab0d6444",
    "slideshow": {
     "slide_type": "fragment"
    }
   },
   "outputs": [],
   "source": []
  },
  {
   "cell_type": "markdown",
   "id": "b68ba95c",
   "metadata": {
    "id": "b68ba95c",
    "slideshow": {
     "slide_type": "subslide"
    }
   },
   "source": [
    "**int()**  \n",
    "\n",
    "Devuelve un número entero  .\n",
    "La función solo procesa correctamente cadenas que contengan exclusivamente números."
   ]
  },
  {
   "cell_type": "code",
   "execution_count": null,
   "id": "34407ccf",
   "metadata": {
    "id": "34407ccf",
    "slideshow": {
     "slide_type": "fragment"
    }
   },
   "outputs": [],
   "source": []
  },
  {
   "cell_type": "code",
   "execution_count": null,
   "id": "13498606",
   "metadata": {
    "id": "13498606",
    "slideshow": {
     "slide_type": "fragment"
    }
   },
   "outputs": [],
   "source": []
  },
  {
   "cell_type": "code",
   "execution_count": null,
   "id": "5a7660a9",
   "metadata": {
    "id": "5a7660a9",
    "slideshow": {
     "slide_type": "fragment"
    }
   },
   "outputs": [],
   "source": []
  },
  {
   "cell_type": "code",
   "execution_count": null,
   "id": "34bc4199",
   "metadata": {
    "id": "34bc4199",
    "slideshow": {
     "slide_type": "fragment"
    }
   },
   "outputs": [],
   "source": []
  },
  {
   "cell_type": "markdown",
   "id": "2cc18d9f",
   "metadata": {
    "id": "2cc18d9f",
    "slideshow": {
     "slide_type": "subslide"
    }
   },
   "source": [
    "**max() y min()**  \n",
    "\n",
    "max y min recibe más de un argumento, **devuelven el mayor y menor de ellos respectivamente.**\n"
   ]
  },
  {
   "cell_type": "code",
   "execution_count": 20,
   "id": "763c4fb1",
   "metadata": {
    "id": "763c4fb1",
    "slideshow": {
     "slide_type": "fragment"
    }
   },
   "outputs": [
    {
     "name": "stdout",
     "output_type": "stream",
     "text": [
      "11\n",
      "3\n"
     ]
    }
   ],
   "source": [
    "lista2 = [3, 6, 8, 11]\n",
    "print(max(lista2))\n",
    "print(min(lista2))"
   ]
  },
  {
   "cell_type": "code",
   "execution_count": null,
   "id": "70bbe3af",
   "metadata": {
    "id": "70bbe3af",
    "slideshow": {
     "slide_type": "fragment"
    }
   },
   "outputs": [],
   "source": []
  },
  {
   "cell_type": "markdown",
   "id": "6393d0db",
   "metadata": {
    "id": "6393d0db",
    "slideshow": {
     "slide_type": "subslide"
    }
   },
   "source": [
    "**pow()**  \n",
    "\n",
    "Recibe dos argumentos, eleva el primer argumento a la potencia del segundo."
   ]
  },
  {
   "cell_type": "code",
   "execution_count": 23,
   "id": "c26f66c7",
   "metadata": {
    "id": "c26f66c7",
    "slideshow": {
     "slide_type": "fragment"
    }
   },
   "outputs": [
    {
     "data": {
      "text/plain": [
       "27"
      ]
     },
     "execution_count": 23,
     "metadata": {},
     "output_type": "execute_result"
    }
   ],
   "source": [
    "#vamos a hacer el cubo de 2\n",
    "pow(2,3)\n",
    "#vamos a hacer el cubo de 3\n",
    "pow(3,3)\n"
   ]
  },
  {
   "cell_type": "code",
   "execution_count": null,
   "id": "77112eaf",
   "metadata": {
    "id": "77112eaf",
    "slideshow": {
     "slide_type": "fragment"
    }
   },
   "outputs": [],
   "source": []
  },
  {
   "cell_type": "code",
   "execution_count": null,
   "id": "dfd71a0d",
   "metadata": {
    "id": "dfd71a0d",
    "slideshow": {
     "slide_type": "fragment"
    }
   },
   "outputs": [],
   "source": []
  },
  {
   "cell_type": "markdown",
   "id": "ff3bf71b",
   "metadata": {
    "id": "ff3bf71b",
    "slideshow": {
     "slide_type": "subslide"
    }
   },
   "source": [
    "**round()**  \n",
    "\n",
    "Puede recibir dos parámetros, el primero sería el número a redondear y el segundo las cifras decimales que queremos.\n",
    "Si no indicamos el segundo parámetro, por defecto redondea a la parte entera"
   ]
  },
  {
   "cell_type": "code",
   "execution_count": 30,
   "id": "9dbe7069",
   "metadata": {
    "id": "9dbe7069",
    "slideshow": {
     "slide_type": "fragment"
    }
   },
   "outputs": [
    {
     "name": "stdout",
     "output_type": "stream",
     "text": [
      "10\n",
      "9.99\n"
     ]
    }
   ],
   "source": [
    "a = 9.9876\n",
    "print(round(a))\n",
    "#ahora vamos a redondear a 2 decimales\n",
    "print(round(a,2))"
   ]
  },
  {
   "cell_type": "code",
   "execution_count": null,
   "id": "421a0c32",
   "metadata": {
    "id": "421a0c32",
    "slideshow": {
     "slide_type": "fragment"
    }
   },
   "outputs": [],
   "source": []
  },
  {
   "cell_type": "code",
   "execution_count": null,
   "id": "a84c9404",
   "metadata": {
    "id": "a84c9404",
    "slideshow": {
     "slide_type": "fragment"
    }
   },
   "outputs": [],
   "source": []
  },
  {
   "cell_type": "markdown",
   "id": "80136af4",
   "metadata": {
    "id": "80136af4",
    "slideshow": {
     "slide_type": "subslide"
    }
   },
   "source": [
    "**range(start, stop, step)**  \n",
    "\n",
    "Genera una secuencia de números **desde start hasta stop (sin incluirlo) aplicando el incremento indicado en step**.  \n",
    "Ejemplos:"
   ]
  },
  {
   "cell_type": "code",
   "execution_count": 33,
   "id": "ce2ce85d",
   "metadata": {
    "id": "ce2ce85d",
    "scrolled": true,
    "slideshow": {
     "slide_type": "fragment"
    }
   },
   "outputs": [
    {
     "name": "stdout",
     "output_type": "stream",
     "text": [
      "[0, 1, 2, 3, 4, 5, 6, 7, 8, 9]\n"
     ]
    }
   ],
   "source": [
    "print(list(range(0,10)))"
   ]
  },
  {
   "cell_type": "code",
   "execution_count": 46,
   "id": "abe8d309",
   "metadata": {
    "slideshow": {
     "slide_type": "fragment"
    }
   },
   "outputs": [
    {
     "name": "stdout",
     "output_type": "stream",
     "text": [
      "[10, 9, 8, 7, 6, 5, 4, 3, 2, 1, 0]\n"
     ]
    }
   ],
   "source": [
    "#hacemos una cuenta atrás. Empezamos en 10 y vamos hasta el valor anterior al 0\n",
    "print(list(range(10,-1,-1)))"
   ]
  },
  {
   "cell_type": "code",
   "execution_count": 47,
   "id": "72e34e47",
   "metadata": {
    "slideshow": {
     "slide_type": "fragment"
    }
   },
   "outputs": [
    {
     "name": "stdout",
     "output_type": "stream",
     "text": [
      "[10, 8, 6, 4, 2, 0]\n"
     ]
    }
   ],
   "source": [
    "#ahora hacemos una cuenta atrás desde el 10 de 2 en dos. Fijate que el tercer parámetro(step) tiene valor negativo\n",
    "#para indicar que va decrementandose\n",
    "print(list(range(10,-1,-2)))"
   ]
  },
  {
   "cell_type": "markdown",
   "id": "e813eccb",
   "metadata": {
    "id": "e813eccb",
    "slideshow": {
     "slide_type": "subslide"
    }
   },
   "source": [
    "**list()**  \n",
    "Este método transforma un iterable/rango a lista"
   ]
  },
  {
   "cell_type": "code",
   "execution_count": 48,
   "id": "0f76fef5",
   "metadata": {
    "id": "0f76fef5",
    "slideshow": {
     "slide_type": "fragment"
    }
   },
   "outputs": [
    {
     "data": {
      "text/plain": [
       "['h', 'o', 'l', 'a', ' ', 'm', 'u', 'n', 'd', 'o']"
      ]
     },
     "execution_count": 48,
     "metadata": {},
     "output_type": "execute_result"
    }
   ],
   "source": [
    "a = \"hola mundo\"\n",
    "b = list(a)\n",
    "b"
   ]
  },
  {
   "cell_type": "code",
   "execution_count": null,
   "id": "28979b58",
   "metadata": {
    "id": "28979b58",
    "slideshow": {
     "slide_type": "fragment"
    }
   },
   "outputs": [],
   "source": []
  },
  {
   "cell_type": "code",
   "execution_count": null,
   "id": "f3a305d7",
   "metadata": {
    "id": "f3a305d7",
    "slideshow": {
     "slide_type": "fragment"
    }
   },
   "outputs": [],
   "source": []
  },
  {
   "cell_type": "code",
   "execution_count": null,
   "id": "ab6f34c5",
   "metadata": {
    "id": "ab6f34c5",
    "slideshow": {
     "slide_type": "fragment"
    }
   },
   "outputs": [],
   "source": []
  },
  {
   "cell_type": "code",
   "execution_count": null,
   "id": "ab4dfdb8",
   "metadata": {
    "id": "ab4dfdb8",
    "slideshow": {
     "slide_type": "fragment"
    }
   },
   "outputs": [],
   "source": []
  },
  {
   "cell_type": "markdown",
   "id": "5821c94c",
   "metadata": {
    "id": "5821c94c",
    "slideshow": {
     "slide_type": "slide"
    }
   },
   "source": [
    "---\n",
    "## 4. Libreria Random - Jugando con números aleatorios.\n",
    "\n",
    "Este módulo implementa generadores de números pseudoaleatorios para varias distribuciones.\n",
    "\n",
    "Puedes ver con detalle todos los métodos en:  \n",
    "https://docs.python.org/es/3/library/random.html?highlight=random#module-random\n",
    "\n",
    "Veamos algunos ejemplos de los métodos más usados..."
   ]
  },
  {
   "cell_type": "code",
   "execution_count": 49,
   "id": "b7627c99",
   "metadata": {
    "id": "b7627c99",
    "slideshow": {
     "slide_type": "fragment"
    }
   },
   "outputs": [],
   "source": [
    "import random as rd #importamos la libreria para poder hacer uso de sus métodos."
   ]
  },
  {
   "cell_type": "markdown",
   "id": "0d4de435",
   "metadata": {
    "id": "0d4de435",
    "slideshow": {
     "slide_type": "subslide"
    }
   },
   "source": [
    "---\n",
    "**randrange(start, stop, step)**\n",
    "\n",
    "Retorna un elemento de range(start, stop, step) seleccionado aleatoriamente."
   ]
  },
  {
   "cell_type": "code",
   "execution_count": 99,
   "id": "649b2805",
   "metadata": {
    "id": "649b2805",
    "slideshow": {
     "slide_type": "fragment"
    }
   },
   "outputs": [
    {
     "data": {
      "text/plain": [
       "111"
      ]
     },
     "execution_count": 99,
     "metadata": {},
     "output_type": "execute_result"
    }
   ],
   "source": [
    "rd.randrange(0,200,3)"
   ]
  },
  {
   "cell_type": "code",
   "execution_count": 231,
   "id": "6fb0f488",
   "metadata": {
    "id": "6fb0f488",
    "scrolled": true,
    "slideshow": {
     "slide_type": "fragment"
    }
   },
   "outputs": [
    {
     "name": "stdout",
     "output_type": "stream",
     "text": [
      "[24, 2, 2, 2, 52, 78, 30, 56, 54, 26, 90, 18, 50, 90, 18, 86, 64, 0, 4, 42, 18, 54, 8, 10, 62, 46, 2, 10, 20, 52, 6, 90, 0, 14, 92, 78, 12, 24, 24, 34, 28, 40, 76, 58, 88, 84, 34, 48, 54, 38, 18, 34, 80, 44, 70, 60, 54, 78, 36, 14, 14, 12, 42, 72, 60, 62, 96, 30, 56, 56, 4, 24, 76, 4, 56, 86, 62, 56, 8, 48, 4, 34, 70, 40, 74, 98, 66, 92, 68, 54, 14, 36, 14, 52, 88, 0, 82, 38, 24, 22]\n",
      "[92, 90, 0, 4, 54, 54, 34, 88, 30, 70, 2, 96, 64, 34, 60, 40, 88, 90, 18, 54]\n"
     ]
    }
   ],
   "source": [
    "#como seria para generar pares aleatorios hasta el 100?\n",
    "lista=[rd.randrange(0,100,2) for x in range(100)]\n",
    "print(lista)\n",
    "\n",
    "#ahora seleccionamos k elementos de la lista de pares.\n",
    "k=10\n",
    "seleccionados=list(rd.sample(lista,20)) \n",
    "#rd.sample() devuelve una lista de k elementos aleatorios que coge de otra lista asegurando que no cogera la misma posición más de una vez\n",
    "print(seleccionados)\n",
    "\n"
   ]
  },
  {
   "cell_type": "code",
   "execution_count": null,
   "id": "5513105a",
   "metadata": {},
   "outputs": [],
   "source": []
  },
  {
   "cell_type": "markdown",
   "id": "85688587",
   "metadata": {
    "id": "85688587",
    "slideshow": {
     "slide_type": "subslide"
    }
   },
   "source": [
    "---\n",
    "**randint(a, b)**  \n",
    "\n",
    "Retorna un **entero aleatorio N tal que a <= N <= b.** Alias de randrange(a, b+1)."
   ]
  },
  {
   "cell_type": "code",
   "execution_count": 255,
   "id": "35eaa343",
   "metadata": {
    "id": "35eaa343",
    "slideshow": {
     "slide_type": "fragment"
    }
   },
   "outputs": [
    {
     "data": {
      "text/plain": [
       "3"
      ]
     },
     "execution_count": 255,
     "metadata": {},
     "output_type": "execute_result"
    }
   ],
   "source": [
    "rd.randint(0,4)"
   ]
  },
  {
   "cell_type": "markdown",
   "id": "d90acc57",
   "metadata": {
    "id": "d90acc57",
    "slideshow": {
     "slide_type": "subslide"
    }
   },
   "source": [
    "---\n",
    "**choice(seq)**  \n",
    "\n",
    "Retorna un elemento aleatorio de una secuencia seq no vacía. Si seq está vacía, lanza un error"
   ]
  },
  {
   "cell_type": "code",
   "execution_count": 271,
   "id": "5bb95412",
   "metadata": {
    "id": "5bb95412",
    "slideshow": {
     "slide_type": "fragment"
    }
   },
   "outputs": [
    {
     "data": {
      "text/plain": [
       "'es'"
      ]
     },
     "execution_count": 271,
     "metadata": {},
     "output_type": "execute_result"
    }
   ],
   "source": [
    "lista = [\"Hola\", \"Mundo\", \"Python\", \"es\", \"poderoso\"]\n",
    "rd.choice(lista)"
   ]
  },
  {
   "cell_type": "markdown",
   "id": "18e898d0",
   "metadata": {
    "id": "18e898d0",
    "slideshow": {
     "slide_type": "subslide"
    }
   },
   "source": [
    "---\n",
    "**shuffle(x)**  \n",
    "\n",
    "Mezcla la secuencia x in-situ."
   ]
  },
  {
   "cell_type": "code",
   "execution_count": 270,
   "id": "78959912",
   "metadata": {
    "id": "78959912",
    "slideshow": {
     "slide_type": "fragment"
    }
   },
   "outputs": [
    {
     "name": "stdout",
     "output_type": "stream",
     "text": [
      "['Hola', 'es', 'Python', 'Mundo', 'poderoso']\n",
      "['Hola', 'Python', 'poderoso', 'Mundo', 'es']\n"
     ]
    }
   ],
   "source": [
    "print(lista)\n",
    "rd.shuffle(lista)\n",
    "print(lista)"
   ]
  },
  {
   "cell_type": "code",
   "execution_count": null,
   "id": "4ca0b8a8",
   "metadata": {
    "id": "4ca0b8a8",
    "slideshow": {
     "slide_type": "fragment"
    }
   },
   "outputs": [],
   "source": []
  },
  {
   "cell_type": "markdown",
   "id": "08ac3a6f",
   "metadata": {
    "id": "08ac3a6f",
    "slideshow": {
     "slide_type": "subslide"
    }
   },
   "source": [
    "---\n",
    "**sample(population, k, *, counts=None)**  \n",
    "\n",
    "Retorna una lista de longitud k de elementos únicos elegidos de la secuencia de población o conjunto. \n"
   ]
  },
  {
   "cell_type": "code",
   "execution_count": 276,
   "id": "a0cdfd18",
   "metadata": {
    "id": "a0cdfd18",
    "slideshow": {
     "slide_type": "fragment"
    }
   },
   "outputs": [
    {
     "data": {
      "text/plain": [
       "['red', 'red', 'red', 'blue', 'red']"
      ]
     },
     "execution_count": 276,
     "metadata": {},
     "output_type": "execute_result"
    }
   ],
   "source": [
    "colores = ['red', 'red', 'red', 'red', 'blue', 'blue']\n",
    "#quiero 5 elementos aleatorios de la lista de colores\n",
    "rd.sample(colores,5)"
   ]
  },
  {
   "cell_type": "markdown",
   "id": "2ee9a9b2",
   "metadata": {
    "id": "2ee9a9b2",
    "slideshow": {
     "slide_type": "subslide"
    }
   },
   "source": [
    "Los elementos repetidos pueden especificarse de uno en uno o con el parámetro opcional counts.  \n",
    "\n",
    "Por ejemplo: "
   ]
  },
  {
   "cell_type": "markdown",
   "id": "9f07ee20",
   "metadata": {
    "id": "9f07ee20",
    "slideshow": {
     "slide_type": "fragment"
    }
   },
   "source": [
    "Quiero 5 elementos aleatorios de la lista ['red', 'blue'] y tiene que haber 3 red y 2 blue"
   ]
  },
  {
   "cell_type": "code",
   "execution_count": 287,
   "id": "711b3f1c",
   "metadata": {
    "id": "711b3f1c",
    "slideshow": {
     "slide_type": "fragment"
    }
   },
   "outputs": [
    {
     "name": "stdout",
     "output_type": "stream",
     "text": [
      "['red', 'red', 'red', 'blue', 'blue']\n",
      "Colores ponderados: ['red', 'red', 'red', 'blue', 'blue']\n",
      "Muestra ponderada: ['blue', 'red', 'blue', 'red', 'red']\n"
     ]
    }
   ],
   "source": [
    "import random\n",
    "\n",
    "colores = ['red', 'red', 'red', 'red', 'blue', 'blue']\n",
    "condicion = {'red': 3, 'blue': 2}\n",
    "\n",
    "# Crear una lista con los elementos ponderados según las frecuencias\n",
    "elementos_ponderados = [color for color, frecuencia in condicion.items() for _ in range(frecuencia)]\n",
    "print(elementos_ponderados)\n",
    "# Obtener una muestra ponderada\n",
    "tamano_muestra = 5\n",
    "muestra_ponderada = random.sample(elementos_ponderados, tamano_muestra)\n",
    "\n",
    "print(\"Colores ponderados:\", elementos_ponderados)\n",
    "print(\"Muestra ponderada:\", muestra_ponderada)\n"
   ]
  },
  {
   "cell_type": "markdown",
   "id": "079ab404",
   "metadata": {
    "id": "079ab404",
    "slideshow": {
     "slide_type": "fragment"
    }
   },
   "source": [
    "Quiero 6 elementos aleatorios de la lista ['red', 'blue','green'] y tiene que haber 3 red y 2 blue 1 green"
   ]
  },
  {
   "cell_type": "code",
   "execution_count": null,
   "id": "664a9a35",
   "metadata": {
    "id": "664a9a35",
    "slideshow": {
     "slide_type": "fragment"
    }
   },
   "outputs": [],
   "source": []
  },
  {
   "cell_type": "code",
   "execution_count": 4,
   "id": "100c999e",
   "metadata": {
    "slideshow": {
     "slide_type": "fragment"
    }
   },
   "outputs": [],
   "source": [
    "#Utilizando la misma lista de colores, ¿como sería generar4 rojos, 1 azul y 3 verdes?\n"
   ]
  },
  {
   "cell_type": "markdown",
   "id": "a930d128",
   "metadata": {
    "id": "a930d128",
    "slideshow": {
     "slide_type": "subslide"
    }
   },
   "source": [
    "---\n",
    "**random()**  \n",
    "\n",
    "Retorna el siguiente número en coma flotante aleatorio dentro del rango [0.0, 1.0)."
   ]
  },
  {
   "cell_type": "code",
   "execution_count": 312,
   "id": "794cad6d",
   "metadata": {
    "id": "794cad6d",
    "slideshow": {
     "slide_type": "fragment"
    }
   },
   "outputs": [
    {
     "data": {
      "text/plain": [
       "0.8736229112131958"
      ]
     },
     "execution_count": 312,
     "metadata": {},
     "output_type": "execute_result"
    }
   ],
   "source": [
    "rd.random()"
   ]
  },
  {
   "cell_type": "code",
   "execution_count": null,
   "id": "f451f22d",
   "metadata": {
    "id": "f451f22d",
    "slideshow": {
     "slide_type": "fragment"
    }
   },
   "outputs": [],
   "source": [
    "rd.random()"
   ]
  },
  {
   "cell_type": "markdown",
   "id": "1c631edd",
   "metadata": {
    "id": "1c631edd",
    "slideshow": {
     "slide_type": "slide"
    }
   },
   "source": [
    "## 5. Salida de datos - print()\n",
    "---"
   ]
  },
  {
   "cell_type": "markdown",
   "id": "3ae47a89",
   "metadata": {
    "id": "3ae47a89",
    "slideshow": {
     "slide_type": "fragment"
    }
   },
   "source": [
    "Cuando trabajamos en un entorno interactivo (consola de python o notebooks) para que python muestre el valor de una variable basta con escribir su nombre."
   ]
  },
  {
   "cell_type": "code",
   "execution_count": null,
   "id": "4b9428f9",
   "metadata": {
    "id": "4b9428f9",
    "slideshow": {
     "slide_type": "fragment"
    }
   },
   "outputs": [],
   "source": []
  },
  {
   "cell_type": "code",
   "execution_count": null,
   "id": "46385557",
   "metadata": {
    "id": "46385557",
    "slideshow": {
     "slide_type": "fragment"
    }
   },
   "outputs": [],
   "source": []
  },
  {
   "cell_type": "markdown",
   "id": "1e8fa844",
   "metadata": {
    "id": "1e8fa844",
    "slideshow": {
     "slide_type": "fragment"
    }
   },
   "source": [
    "Pero cuando estemos desarrollando programas, una de las acciones más repetidas e importantes es la posibilidad de presentar los resultados de nuestros programas en pantalla. Para realizar esta tarea en Python utilizamos la función **print().**"
   ]
  },
  {
   "cell_type": "markdown",
   "id": "43d8f089",
   "metadata": {
    "id": "43d8f089",
    "slideshow": {
     "slide_type": "subslide"
    }
   },
   "source": [
    "**Print()** puede imprimir en pantalla **varias expresiones separadas por comas o a través de las cadenas 'f'.**"
   ]
  },
  {
   "cell_type": "markdown",
   "id": "97e1b07a",
   "metadata": {
    "id": "97e1b07a",
    "slideshow": {
     "slide_type": "fragment"
    }
   },
   "source": [
    "**Print() --> Texto**\n",
    "\n",
    "Para imprimir texto en pantalla el texto que pongamos entre los parentesis, **debe ir con comillas**"
   ]
  },
  {
   "cell_type": "code",
   "execution_count": null,
   "id": "0b3c2c84",
   "metadata": {
    "id": "0b3c2c84",
    "slideshow": {
     "slide_type": "fragment"
    }
   },
   "outputs": [],
   "source": []
  },
  {
   "cell_type": "markdown",
   "id": "2abe1d5c",
   "metadata": {
    "id": "2abe1d5c",
    "slideshow": {
     "slide_type": "fragment"
    }
   },
   "source": [
    "**Print() --> Números, Variables y Operaciones**\n",
    "\n",
    "**Cuando quieres mostrar números, variables y operaciones, el interior del parentesis va sin comillas:**"
   ]
  },
  {
   "cell_type": "code",
   "execution_count": 313,
   "id": "0227de32",
   "metadata": {
    "id": "0227de32",
    "slideshow": {
     "slide_type": "fragment"
    }
   },
   "outputs": [
    {
     "name": "stdout",
     "output_type": "stream",
     "text": [
      "90\n"
     ]
    }
   ],
   "source": [
    "print(89+1)"
   ]
  },
  {
   "cell_type": "code",
   "execution_count": null,
   "id": "1806b381",
   "metadata": {
    "id": "1806b381",
    "slideshow": {
     "slide_type": "fragment"
    }
   },
   "outputs": [],
   "source": []
  },
  {
   "cell_type": "code",
   "execution_count": null,
   "id": "62b49cd1",
   "metadata": {
    "id": "62b49cd1",
    "slideshow": {
     "slide_type": "fragment"
    }
   },
   "outputs": [],
   "source": []
  },
  {
   "cell_type": "markdown",
   "id": "af169a44",
   "metadata": {
    "id": "af169a44",
    "slideshow": {
     "slide_type": "subslide"
    }
   },
   "source": [
    "___\n",
    "La función print() permite incluir variables o expresiones como argumento, lo que permite combinar texto y variables, la forma de hacerlo es **separando texto y variables por coma.**\n",
    "\n",
    "Para combinar texto con operaciones, y variables, debes respetar la regla que te mencioné antes:  \n",
    "\n",
    "**El texto lleva comillas, los números, variables y operaciones no**\n",
    "___"
   ]
  },
  {
   "cell_type": "code",
   "execution_count": null,
   "id": "d693fe6e",
   "metadata": {
    "id": "d693fe6e",
    "slideshow": {
     "slide_type": "fragment"
    }
   },
   "outputs": [],
   "source": [
    "edad = 540\n",
    "nombre = \"\"\n",
    "print(\"Me llamo\",nombre,\"y tengo\",edad,\"años\")"
   ]
  },
  {
   "cell_type": "markdown",
   "id": "b63e5f3b",
   "metadata": {
    "id": "b63e5f3b",
    "slideshow": {
     "slide_type": "subslide"
    }
   },
   "source": [
    "### 5.1 format  \n",
    "---\n",
    "\n",
    "Existe otra forma de combinar texto, variables y expresiones en nuestras cadenas...usando la función format()\n",
    "\n"
   ]
  },
  {
   "cell_type": "code",
   "execution_count": null,
   "id": "bc32b045",
   "metadata": {
    "id": "bc32b045",
    "scrolled": true,
    "slideshow": {
     "slide_type": "fragment"
    }
   },
   "outputs": [],
   "source": []
  },
  {
   "cell_type": "markdown",
   "id": "48acac25",
   "metadata": {
    "id": "48acac25",
    "slideshow": {
     "slide_type": "subslide"
    }
   },
   "source": [
    "### 5.2 Cadenas \"f\"  \n",
    "---\n",
    "\n",
    "A partir de la versión 3.6 fr python, una nueva notación para cadenas llamada **cadenas \"f\"**, hace más sencillo introducir variables y expresiones en las cadenas.  \n",
    "Una cadena \"f\" contiene variables y expresiones entre llaves \"{}\" que se sustituyen directamente por su valor. Las cadenas \"f\" se reconocen porque **comienzan por una letra f antes de las comillas de apertura.**\n",
    "\n",
    "---\n",
    "**Veamos el ejemplo anterior con cadenas \"f\":**"
   ]
  },
  {
   "cell_type": "code",
   "execution_count": 314,
   "id": "7dcacba7",
   "metadata": {
    "id": "7dcacba7",
    "slideshow": {
     "slide_type": "fragment"
    }
   },
   "outputs": [
    {
     "name": "stdout",
     "output_type": "stream",
     "text": [
      "Me llamo Juan y tengo 25 años\n"
     ]
    }
   ],
   "source": [
    "nombre = \"Juan\"\n",
    "edad = 25\n",
    "\n",
    "print(f\"Me llamo {nombre} y tengo {edad} años\")\n"
   ]
  },
  {
   "cell_type": "markdown",
   "id": "ff210407",
   "metadata": {
    "id": "ff210407",
    "slideshow": {
     "slide_type": "subslide"
    }
   },
   "source": [
    "💡 **¿Con qué opción te quedas?** 💡"
   ]
  },
  {
   "cell_type": "markdown",
   "id": "d45abe1c",
   "metadata": {
    "id": "d45abe1c",
    "slideshow": {
     "slide_type": "subslide"
    }
   },
   "source": [
    "### 5.3 Parámetros de la función print()  \n",
    "---\n",
    "La función print tiene dos parámetros interesantes que son **sep y end**. Ambos deben ser de tipo carácter y sirven respectivamente para separar las cadenas y terminar las líneas.  \n",
    "\n",
    "Vamos a ver algunos ejemplos"
   ]
  },
  {
   "cell_type": "code",
   "execution_count": 317,
   "id": "1628aa30",
   "metadata": {
    "id": "1628aa30",
    "scrolled": true,
    "slideshow": {
     "slide_type": "fragment"
    }
   },
   "outputs": [
    {
     "name": "stdout",
     "output_type": "stream",
     "text": [
      "Hola\n",
      "Gandalf\n"
     ]
    }
   ],
   "source": [
    "print(\"Hola\")\n",
    "print(\"Gandalf\")"
   ]
  },
  {
   "cell_type": "code",
   "execution_count": 320,
   "id": "d0784ae9",
   "metadata": {
    "id": "d0784ae9",
    "slideshow": {
     "slide_type": "fragment"
    }
   },
   "outputs": [
    {
     "name": "stdout",
     "output_type": "stream",
     "text": [
      "HolaGandalf\n"
     ]
    }
   ],
   "source": [
    "print(\"Hola\", end=\"\")\n",
    "print(\"Gandalf\")"
   ]
  },
  {
   "cell_type": "code",
   "execution_count": 316,
   "id": "6ace6b9e",
   "metadata": {
    "id": "6ace6b9e",
    "slideshow": {
     "slide_type": "fragment"
    }
   },
   "outputs": [
    {
     "name": "stdout",
     "output_type": "stream",
     "text": [
      "Hola. Gandalf\n"
     ]
    }
   ],
   "source": [
    "print(\"Hola.\", end=\" \")\n",
    "print(\"Gandalf\")"
   ]
  },
  {
   "cell_type": "code",
   "execution_count": 321,
   "id": "920052fd",
   "metadata": {
    "id": "920052fd",
    "slideshow": {
     "slide_type": "fragment"
    }
   },
   "outputs": [
    {
     "name": "stdout",
     "output_type": "stream",
     "text": [
      "Hola gran Gandalf\n"
     ]
    }
   ],
   "source": [
    "texto = \" gran \"\n",
    "print(\"Hola\", end=f\"{texto}\")\n",
    "print(\"Gandalf\")"
   ]
  },
  {
   "cell_type": "code",
   "execution_count": 322,
   "id": "7ecc1d75",
   "metadata": {
    "id": "7ecc1d75",
    "slideshow": {
     "slide_type": "fragment"
    }
   },
   "outputs": [
    {
     "name": "stdout",
     "output_type": "stream",
     "text": [
      "Hola-mundo-!\n"
     ]
    }
   ],
   "source": [
    "a = \"mundo\"\n",
    "print(\"Hola\", a, \"!\", sep=\"-\")"
   ]
  },
  {
   "cell_type": "markdown",
   "id": "985901f1",
   "metadata": {
    "id": "985901f1",
    "slideshow": {
     "slide_type": "slide"
    }
   },
   "source": [
    "## 6. Entrada de datos - input()\n",
    "---\n",
    "Otra acción imprescindible a realizar en los programas es la de introducir información para poder procesarla.\n",
    "La función input se usa para dos cosas:\n",
    "* Hacer pausas en nuestro programa.\n",
    "* Permitir que el usuario introduzca información."
   ]
  },
  {
   "cell_type": "markdown",
   "id": "753728da",
   "metadata": {
    "id": "753728da",
    "slideshow": {
     "slide_type": "subslide"
    }
   },
   "source": [
    "Input usado como pausa"
   ]
  },
  {
   "cell_type": "code",
   "execution_count": 2,
   "id": "c5694fa8",
   "metadata": {
    "id": "c5694fa8",
    "slideshow": {
     "slide_type": "fragment"
    }
   },
   "outputs": [],
   "source": [
    "#input usado como pausa:\n"
   ]
  },
  {
   "cell_type": "markdown",
   "id": "a770845e",
   "metadata": {
    "id": "a770845e",
    "slideshow": {
     "slide_type": "subslide"
    }
   },
   "source": [
    "Input usado para pedir datos al usuario:"
   ]
  },
  {
   "cell_type": "code",
   "execution_count": null,
   "id": "54d367e7",
   "metadata": {
    "id": "54d367e7",
    "slideshow": {
     "slide_type": "fragment"
    }
   },
   "outputs": [],
   "source": []
  },
  {
   "cell_type": "markdown",
   "id": "83e340e1",
   "metadata": {
    "id": "83e340e1",
    "slideshow": {
     "slide_type": "subslide"
    }
   },
   "source": [
    "La función int(numero) se usa cuando queremos que el usuario introduzca enteros"
   ]
  },
  {
   "cell_type": "code",
   "execution_count": null,
   "id": "1152ae97",
   "metadata": {
    "id": "1152ae97",
    "scrolled": true,
    "slideshow": {
     "slide_type": "fragment"
    }
   },
   "outputs": [],
   "source": []
  },
  {
   "cell_type": "markdown",
   "id": "132e1d5b",
   "metadata": {
    "id": "132e1d5b",
    "slideshow": {
     "slide_type": "subslide"
    }
   },
   "source": [
    "La función float(decimal) se usa para que el usuario introduzca números decimales."
   ]
  },
  {
   "cell_type": "code",
   "execution_count": null,
   "id": "f7752273",
   "metadata": {
    "id": "f7752273",
    "slideshow": {
     "slide_type": "fragment"
    }
   },
   "outputs": [],
   "source": []
  },
  {
   "cell_type": "markdown",
   "id": "00079c1a",
   "metadata": {
    "id": "00079c1a",
    "slideshow": {
     "slide_type": "slide"
    }
   },
   "source": [
    "## 7. Ejercicios\n",
    "---"
   ]
  },
  {
   "cell_type": "markdown",
   "id": "725df4bc",
   "metadata": {
    "id": "725df4bc",
    "slideshow": {
     "slide_type": "subslide"
    }
   },
   "source": [
    "**1- Escribe un programa que pida al usuario 3 números y muestre en pantalla la media de los 3 con el siguiente formato:**\n",
    "\n",
    "La media de n1=1, n2=3 y n3=4 es: 2.67"
   ]
  },
  {
   "cell_type": "code",
   "execution_count": 4,
   "id": "9a6d55ba",
   "metadata": {
    "id": "9a6d55ba",
    "slideshow": {
     "slide_type": "fragment"
    }
   },
   "outputs": [
    {
     "name": "stdout",
     "output_type": "stream",
     "text": [
      "La media de n1=1.0 n2=1.0 y n3=1.0 es:1.0\n"
     ]
    }
   ],
   "source": [
    "n1= float(input(\"Introduce n1\"))\n",
    "n2 = float(input(\"Introduce n2\"))\n",
    "n3 = float(input(\"Introduce n3\"))\n",
    "print(f\"La media de n1={n1} n2={n2} y n3={n3} es:{sum([n1,n2,n3])/3}\")"
   ]
  },
  {
   "cell_type": "markdown",
   "id": "91cd582e",
   "metadata": {
    "id": "91cd582e",
    "slideshow": {
     "slide_type": "subslide"
    }
   },
   "source": [
    "**2- Escribe un programa que pida el ancho y largo de un rectangulo y escriba en pantalla su área y perímetro. \n",
    "El resultado deberá aparecer con el siguiente formato:**\n",
    "\n",
    "** Se va a proceder a calcular el area de un rectángulo **\n",
    "\n",
    "Introduce el ancho  \n",
    "Introduce el alto  \n",
    "El área del rectangulo es: x  \n",
    "El perímetro del rectangulo es: x"
   ]
  },
  {
   "cell_type": "code",
   "execution_count": 5,
   "id": "8511bbf4",
   "metadata": {
    "id": "8511bbf4",
    "slideshow": {
     "slide_type": "fragment"
    }
   },
   "outputs": [
    {
     "name": "stdout",
     "output_type": "stream",
     "text": [
      "La area del rectangulo es:  805.0\n",
      "El perimetro del rectangulo es:  116.0\n"
     ]
    }
   ],
   "source": [
    "ancho= float(input(\"Introduce el ancho\"))\n",
    "alto= float(input(\"Introduce el alto\"))\n",
    "area=ancho*alto\n",
    "perimetro=(ancho*2)+(alto*2)\n",
    "print (\"La area del rectangulo es: \",area)\n",
    "print (\"El perimetro del rectangulo es: \",perimetro)"
   ]
  },
  {
   "cell_type": "markdown",
   "id": "bfd11b54",
   "metadata": {
    "id": "bfd11b54",
    "slideshow": {
     "slide_type": "subslide"
    }
   },
   "source": [
    "**3- Muestra en pantalla una lista de números comprendidos entre el 33 y el 88 (incluido)**\n",
    "\n",
    "* Desordena la lista de números y muestrala en pantalla.\n",
    "* Muestra en una línea el máximo y en otra el mínimo\n"
   ]
  },
  {
   "cell_type": "code",
   "execution_count": 7,
   "id": "8a23bc29",
   "metadata": {
    "id": "8a23bc29",
    "slideshow": {
     "slide_type": "fragment"
    }
   },
   "outputs": [
    {
     "name": "stdout",
     "output_type": "stream",
     "text": [
      "[33, 34, 35, 36, 37, 38, 39, 40, 41, 42, 43, 44, 45, 46, 47, 48, 49, 50, 51, 52, 53, 54, 55, 56, 57, 58, 59, 60, 61, 62, 63, 64, 65, 66, 67, 68, 69, 70, 71, 72, 73, 74, 75, 76, 77, 78, 79, 80, 81, 82, 83, 84, 85, 86, 87, 88]\n",
      "88\n",
      "33\n"
     ]
    }
   ],
   "source": [
    "lista= list(range(33,89))\n",
    "print(lista)\n",
    "print(max(lista))\n",
    "print(min(lista))\n"
   ]
  },
  {
   "cell_type": "markdown",
   "id": "ee9a33e7",
   "metadata": {
    "id": "ee9a33e7",
    "slideshow": {
     "slide_type": "subslide"
    }
   },
   "source": [
    "**4- Realiza los siguientes cálculos**\n",
    "* Calcula el sumatorio de los números pares comprendidos entre el 55 y el 88.\n",
    "\n",
    "* Calcula el sumatorio de todos los números impares comprendidos entre 1-100"
   ]
  },
  {
   "cell_type": "code",
   "execution_count": 14,
   "id": "001a89c4",
   "metadata": {
    "id": "001a89c4",
    "slideshow": {
     "slide_type": "fragment"
    }
   },
   "outputs": [
    {
     "name": "stdout",
     "output_type": "stream",
     "text": [
      "[54, 56, 58, 60, 62, 64, 66, 68, 70, 72, 74, 76, 78, 80, 82, 84, 86, 88]\n",
      "sumatorio de números pares de 55 a 88 es: 1278\n",
      "[1, 3, 5, 7, 9, 11, 13, 15, 17, 19, 21, 23, 25, 27, 29, 31, 33, 35, 37, 39, 41, 43, 45, 47, 49, 51, 53, 55, 57, 59, 61, 63, 65, 67, 69, 71, 73, 75, 77, 79, 81, 83, 85, 87, 89, 91, 93, 95, 97, 99]\n",
      "sumatorio de números impares de 1 a 100 es: 2500\n"
     ]
    }
   ],
   "source": [
    "lista= list(range(54,89,2))\n",
    "print(lista)\n",
    "print(f\"sumatorio de números pares de 55 a 88 es: {sum(lista)}\")\n",
    "lista= list(range(1,101,2))\n",
    "print(lista)\n",
    "print(f\"sumatorio de números impares de 1 a 100 es: {sum(lista)}\")"
   ]
  },
  {
   "cell_type": "markdown",
   "id": "6fd667da",
   "metadata": {
    "id": "6fd667da",
    "slideshow": {
     "slide_type": "subslide"
    }
   },
   "source": [
    "**5- Calcula el número de caracteres que tiene el siguiente texto:**\n",
    "\n",
    "\"En un lugar de la Mancha, de cuyo nombre no quiero acordarme, no ha mucho tiempo que vivía un hidalgo de los de lanza en astillero, adarga antigua, rocín flaco y galgo corredor\"\n"
   ]
  },
  {
   "cell_type": "code",
   "execution_count": 15,
   "id": "42e6f356",
   "metadata": {
    "id": "42e6f356",
    "slideshow": {
     "slide_type": "fragment"
    }
   },
   "outputs": [
    {
     "data": {
      "text/plain": [
       "176"
      ]
     },
     "execution_count": 15,
     "metadata": {},
     "output_type": "execute_result"
    }
   ],
   "source": [
    "cadena=\"En un lugar de la Mancha, de cuyo nombre no quiero acordarme, no ha mucho tiempo que vivía un hidalgo de los de lanza en astillero, adarga antigua, rocín flaco y galgo corredor\"\n",
    "len(cadena)"
   ]
  },
  {
   "cell_type": "markdown",
   "id": "c1a101e6",
   "metadata": {
    "id": "c1a101e6",
    "slideshow": {
     "slide_type": "subslide"
    }
   },
   "source": [
    "**6- Extraer una muestra tres números entre el 1 y el 20, ambos incluidos.**"
   ]
  },
  {
   "cell_type": "code",
   "execution_count": 33,
   "id": "58a1298c",
   "metadata": {
    "id": "58a1298c",
    "slideshow": {
     "slide_type": "fragment"
    }
   },
   "outputs": [
    {
     "name": "stdout",
     "output_type": "stream",
     "text": [
      "[11, 7, 16]\n"
     ]
    }
   ],
   "source": [
    "import random as rd\n",
    "lista=rd.sample(range(1,21),3)\n",
    "print(lista)"
   ]
  },
  {
   "cell_type": "markdown",
   "id": "aa4983d8",
   "metadata": {
    "id": "aa4983d8",
    "slideshow": {
     "slide_type": "subslide"
    }
   },
   "source": [
    "**7- Genera una lista de 20 números enteros aleatorios entre 0-100(ambos incluidos) donde:**\n",
    "* **El mayor valor seleccionado se repita 10 veces**\n",
    "* **El segundo mayor 5**\n",
    "* **El tercer mayor 3 veces**\n",
    "* **El resto 1.**\n",
    "\n",
    "**Muestra la lista por pantalla**"
   ]
  },
  {
   "cell_type": "code",
   "execution_count": 73,
   "id": "055d7584",
   "metadata": {
    "id": "055d7584",
    "scrolled": true,
    "slideshow": {
     "slide_type": "fragment"
    }
   },
   "outputs": [
    {
     "name": "stdout",
     "output_type": "stream",
     "text": [
      "Lista de 20 números enteros aleatorios:\n",
      "[99, 99, 99, 99, 99, 99, 99, 99, 99, 99, 94, 94, 94, 94, 94, 88, 88, 88, 87, 84, 73, 71, 67, 65, 55, 50, 43, 39, 34, 33, 22, 21, 14, 6, 4]\n"
     ]
    }
   ],
   "source": [
    "import random\n",
    "\n",
    "# Generar una lista de 20 números aleatorios entre 0 y 100\n",
    "numeros = random.sample(range(101), 20)\n",
    "\n",
    "# Ordenar la lista en orden descendente\n",
    "numeros.sort(reverse=True)\n",
    "\n",
    "# Repetir el mayor valor 10 veces, el segundo mayor 5 veces, el tercer mayor 3 veces, y el resto 1 vez\n",
    "lista_final = [numeros[0]] * 10 + [numeros[1]] * 5 + [numeros[2]] * 3 + numeros[3:]\n",
    "\n",
    "# Mostrar la lista por pantalla\n",
    "print(\"Lista de 20 números enteros aleatorios:\")\n",
    "print(lista_final)"
   ]
  },
  {
   "cell_type": "code",
   "execution_count": null,
   "id": "29486bb1",
   "metadata": {
    "id": "29486bb1",
    "slideshow": {
     "slide_type": "fragment"
    }
   },
   "outputs": [],
   "source": []
  },
  {
   "cell_type": "code",
   "execution_count": null,
   "id": "14456b08",
   "metadata": {
    "id": "14456b08",
    "slideshow": {
     "slide_type": "fragment"
    }
   },
   "outputs": [],
   "source": []
  }
 ],
 "metadata": {
  "celltoolbar": "Slideshow",
  "colab": {
   "provenance": []
  },
  "kernelspec": {
   "display_name": "Python 3 (ipykernel)",
   "language": "python",
   "name": "python3"
  },
  "language_info": {
   "codemirror_mode": {
    "name": "ipython",
    "version": 3
   },
   "file_extension": ".py",
   "mimetype": "text/x-python",
   "name": "python",
   "nbconvert_exporter": "python",
   "pygments_lexer": "ipython3",
   "version": "3.11.7"
  },
  "rise": {
   "scroll": true,
   "start_slideshow_at": "beginning"
  }
 },
 "nbformat": 4,
 "nbformat_minor": 5
}
