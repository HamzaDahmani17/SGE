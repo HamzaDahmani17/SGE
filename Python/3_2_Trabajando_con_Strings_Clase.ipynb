{
 "cells": [
  {
   "cell_type": "markdown",
   "id": "3d0303e4",
   "metadata": {},
   "source": [
    "# Trabajando con Strings o Cadenas de Texto\n",
    "___\n",
    "\n",
    "Usaremos cadenas muy a menudo cuando programemos. Una cadena es una serie de letras rodeadas por comillas simples, dobles o triples. Python 3 define la cadena como un \"Tipo de secuencia de texto\". Puedes castear otros tipos de datos a cadenas usando la función str() incorporada.\n",
    "\n",
    "En este notebook vamos a aprender:\n",
    "* Crear Cadenas\n",
    "*  Métodos de cadena\n",
    "*  Concatenación de cadenas\n",
    "* Cortar cadenas o String slicing  \n",
    "\n",
    "¡Comencemos aprendiendo las diferentes formas de crear cadenas!"
   ]
  },
  {
   "cell_type": "markdown",
   "id": "f8196655",
   "metadata": {},
   "source": [
    "___\n",
    "## 1. Crear Strings"
   ]
  },
  {
   "cell_type": "code",
   "execution_count": 2,
   "id": "8ee6dfa2",
   "metadata": {},
   "outputs": [
    {
     "name": "stdout",
     "output_type": "stream",
     "text": [
      "Bilbo-Bolson-direccion\n"
     ]
    }
   ],
   "source": [
    "nombre = 'Bilbo'\n",
    "apellido = \"Bolson\"\n",
    "#Haz un ejemplo empleando \"\"\"\"\"\" y metiendo retornos de carro\n",
    "direccion = \"direccion\"\n",
    "\n",
    "print(nombre,apellido,direccion, sep=\"-\")\n"
   ]
  },
  {
   "cell_type": "markdown",
   "id": "3663d722",
   "metadata": {},
   "source": [
    "Es muy importante que entendamos un str como una cadena de caracteres concatenados. Vamos a verlo con una imagen:"
   ]
  },
  {
   "cell_type": "markdown",
   "id": "4473e101",
   "metadata": {},
   "source": [
    "![strings](strings.png)"
   ]
  },
  {
   "cell_type": "markdown",
   "id": "b94e5a89",
   "metadata": {},
   "source": [
    "Viendo la cadena de este modo, podemos encontrar una letra en una posición determinada, teniendo en cuenta que la posición inicial es 0."
   ]
  },
  {
   "cell_type": "code",
   "execution_count": 5,
   "id": "211338d7",
   "metadata": {},
   "outputs": [
    {
     "data": {
      "text/plain": [
       "'d'"
      ]
     },
     "execution_count": 5,
     "metadata": {},
     "output_type": "execute_result"
    }
   ],
   "source": [
    "texto = \"Una cadena\"\n",
    "#muestra la letra d\n",
    "texto[6]"
   ]
  },
  {
   "cell_type": "markdown",
   "id": "1696929a",
   "metadata": {},
   "source": [
    "---\n",
    "## 2. Operaciones con f-Strings"
   ]
  },
  {
   "cell_type": "markdown",
   "id": "471fb91c",
   "metadata": {},
   "source": [
    "\n",
    "### 2.1 Número de decimales impresos con f-Strings\n",
    "\n",
    "Si deseas limitar la cantidad de decimales que se imprimen, usa la cadena f como se muestra a continuación.\n",
    "\n",
    "**Variable/numero_float:.numero_decimalesf**\n",
    "\n",
    "La nomenclatura es la que se indica arriba, donde:\n",
    "\n",
    "**Variable/numero_float** => es la variable donde o el decimal que queremos mostrar\n",
    "\n",
    "**:** => dos puntos\n",
    "\n",
    "**.** => punto\n",
    "\n",
    "**numero_decimales** => número de decimales que queremos mostrar\n",
    "\n",
    "**f** => de float"
   ]
  },
  {
   "cell_type": "code",
   "execution_count": 12,
   "id": "bdb01f2b",
   "metadata": {},
   "outputs": [
    {
     "name": "stdout",
     "output_type": "stream",
     "text": [
      "2.3123\n",
      "2.3\n",
      "2.31\n",
      "2.312\n"
     ]
    }
   ],
   "source": [
    "num = 2.3123\n",
    "print(num)\n",
    "# Limitado a 1 decimal\n",
    "print(f\"{num:.1f}\")\n",
    "# Limitado 2 decimales\n",
    "print(f\"{num:.2f}\")\n",
    "# Limitado 3 decimales\n",
    "print(f\"{num:.3f}\")"
   ]
  },
  {
   "cell_type": "markdown",
   "id": "b5307e16",
   "metadata": {},
   "source": [
    "\n",
    "### 2.2 Formatear fechas en Python f-Strings \n",
    "\n",
    "Al imprimir una cadena de Python, las cadenas f te permiten formatear fecha y hora fácilmente con un corchete y sus formatos.\n",
    "\n",
    "Encuentra todos los formatos [aquí.](https://docs.python.org/2/library/datetime.html#strftime-and-strptime-behavior)"
   ]
  },
  {
   "cell_type": "code",
   "execution_count": 14,
   "id": "fe2517db",
   "metadata": {},
   "outputs": [
    {
     "name": "stdout",
     "output_type": "stream",
     "text": [
      "1\n",
      "Necesitas estar allí a las 30 PM el \n"
     ]
    }
   ],
   "source": [
    "from datetime import datetime\n",
    "\n",
    "date = datetime(2022, 1, 1, 15, 30, 45)\n",
    "print(date.day)\n",
    "#Completa la siguiente línea para que el mensaje sea\n",
    "#Necesitas estar allí a las 03:30 PM el Saturday\n",
    "print(f'Necesitas estar allí a las {date:%M %p} el ')"
   ]
  },
  {
   "cell_type": "markdown",
   "id": "d1ac83c3",
   "metadata": {},
   "source": [
    "\n",
    "### 2.3 Rellenar una cadena con ceros por la izquierda.\n",
    "\n",
    "Si deseas rellenar una cadena con cero, use f-string."
   ]
  },
  {
   "cell_type": "code",
   "execution_count": 16,
   "id": "6caa58d1",
   "metadata": {},
   "outputs": [
    {
     "name": "stdout",
     "output_type": "stream",
     "text": [
      "Son las 08 AM! Levantate!\n"
     ]
    }
   ],
   "source": [
    "hora1= 8\n",
    "#Muestra el mensaje siguiente: Son las 08 AM! Levantate!\n",
    "print(f\"Son las 0{hora1} AM! Levantate!\")"
   ]
  },
  {
   "cell_type": "markdown",
   "id": "39ff2644",
   "metadata": {},
   "source": [
    "### 2.4. Depurar nuestro código Python con un signo igual en una cadena f \n",
    "\n",
    "Es común usarlo f\"var={var}\"para ver qué valores se están imprimiendo.\n",
    "\n",
    "En Python 3.8 y superior, puede obtener los mismos resultados usando f\"{var=}\".\n",
    "\n",
    "Le veremos más utilidad cuando estemos dentro de un bucle imprimiendo valores."
   ]
  },
  {
   "cell_type": "code",
   "execution_count": 19,
   "id": "920e6d25",
   "metadata": {},
   "outputs": [
    {
     "name": "stdout",
     "output_type": "stream",
     "text": [
      "La media de n1=1, n2=1 y n3=1 es: 1.00\n"
     ]
    }
   ],
   "source": [
    "n1 = int(input(\"Introduce nº1:\"))\n",
    "n2 = int(input(\"Introduce nº2:\"))\n",
    "n3 = int(input(\"Introduce nº3:\"))\n",
    "media = (n1 + n2 + n3)/3\n",
    "print(f\"La media de {n1=}, {n2=} y {n3=} es: {media:.2f}\")"
   ]
  },
  {
   "cell_type": "markdown",
   "id": "89bb7246",
   "metadata": {},
   "source": [
    "---\n",
    "## 3. Métodos de Strings"
   ]
  },
  {
   "cell_type": "code",
   "execution_count": 3,
   "id": "5eaaefce",
   "metadata": {},
   "outputs": [
    {
     "name": "stdout",
     "output_type": "stream",
     "text": [
      "['__add__', '__class__', '__contains__', '__delattr__', '__dir__', '__doc__', '__eq__', '__format__', '__ge__', '__getattribute__', '__getitem__', '__getnewargs__', '__gt__', '__hash__', '__init__', '__init_subclass__', '__iter__', '__le__', '__len__', '__lt__', '__mod__', '__mul__', '__ne__', '__new__', '__reduce__', '__reduce_ex__', '__repr__', '__rmod__', '__rmul__', '__setattr__', '__sizeof__', '__str__', '__subclasshook__', 'capitalize', 'casefold', 'center', 'count', 'encode', 'endswith', 'expandtabs', 'find', 'format', 'format_map', 'index', 'isalnum', 'isalpha', 'isascii', 'isdecimal', 'isdigit', 'isidentifier', 'islower', 'isnumeric', 'isprintable', 'isspace', 'istitle', 'isupper', 'join', 'ljust', 'lower', 'lstrip', 'maketrans', 'partition', 'removeprefix', 'removesuffix', 'replace', 'rfind', 'rindex', 'rjust', 'rpartition', 'rsplit', 'rstrip', 'split', 'splitlines', 'startswith', 'strip', 'swapcase', 'title', 'translate', 'upper', 'zfill']\n"
     ]
    },
    {
     "data": {
      "text/plain": [
       "'ANTONIO'"
      ]
     },
     "execution_count": 3,
     "metadata": {},
     "output_type": "execute_result"
    }
   ],
   "source": [
    "nombre = 'Antonio'\n",
    "print(dir(nombre))#con dir vemos todos los atributos y métodos asociados de un objeto.\n",
    "nombre.upper()"
   ]
  },
  {
   "cell_type": "markdown",
   "id": "a7489b86",
   "metadata": {},
   "source": [
    "Podemos consultar la documentación completa de todos estos métodos en:  \n",
    "\n",
    "https://docs.python.org/es/3/library/stdtypes.html?highlight=split#str.split\n",
    "\n",
    "Vamos a ver algunos ejemplos con varios de estos métodos."
   ]
  },
  {
   "cell_type": "markdown",
   "id": "99c6f3b4",
   "metadata": {},
   "source": [
    "---\n",
    "### 3.1 find(...): encuentrar el índice de una subcadena en una cadena de Python.\n",
    "\n",
    "Si deseamos encontrar el índice de una subcadena en una cadena, usamos el método <code>find()</code>. \n",
    "\n",
    "Este método **devolverá el índice de la primera aparición de la subcadena si se encuentra y devolverá de -1 en caso contrario.**"
   ]
  },
  {
   "cell_type": "code",
   "execution_count": 61,
   "id": "8dbb3eb3",
   "metadata": {},
   "outputs": [
    {
     "data": {
      "text/plain": [
       "4"
      ]
     },
     "execution_count": 61,
     "metadata": {},
     "output_type": "execute_result"
    }
   ],
   "source": [
    "sentencia = \"Hoy saldré a caminar\"\n",
    "\n",
    "#encuentra el indice de la primera ocurrencia de la subcadena \"sal\"\n",
    "sentencia.find(\"sal\")"
   ]
  },
  {
   "cell_type": "markdown",
   "id": "5dd6a346",
   "metadata": {},
   "source": [
    "También puedes proporcionar la posición inicial y final de la búsqueda:"
   ]
  },
  {
   "cell_type": "code",
   "execution_count": 67,
   "id": "e8a31a3c",
   "metadata": {},
   "outputs": [
    {
     "name": "stdout",
     "output_type": "stream",
     "text": [
      "5\n"
     ]
    }
   ],
   "source": [
    "#comienza la búsqueda de la subcadena a partir del indice 5.\n",
    "# sentencia.find(\"sal\",5)\n",
    "sentencia2 = \"Hola mundo, hola Python\"\n",
    "indice = sentencia2.find(\"mundo\", 5, 10)\n",
    "print(indice)\n"
   ]
  },
  {
   "cell_type": "code",
   "execution_count": 23,
   "id": "2997daf9",
   "metadata": {},
   "outputs": [
    {
     "data": {
      "text/plain": [
       "26"
      ]
     },
     "execution_count": 23,
     "metadata": {},
     "output_type": "execute_result"
    }
   ],
   "source": [
    "#ahora la primera aparición de sal no la tiene encuenta porque está \n",
    "#en el indice 4, muestra la segunda en la pos 26\n",
    "sentencia = \"Hoy saldré a caminar y no saldré mañana.\"\n",
    "sentencia.find(\"sal\", 5)\n"
   ]
  },
  {
   "cell_type": "code",
   "execution_count": 24,
   "id": "df432035",
   "metadata": {},
   "outputs": [
    {
     "data": {
      "text/plain": [
       "-1"
      ]
     },
     "execution_count": 24,
     "metadata": {},
     "output_type": "execute_result"
    }
   ],
   "source": [
    "#aquí no puesta ninguna porque en el rango no está la subcadena\n",
    "sentencia.find(\"sal\", 5, 10)\n"
   ]
  },
  {
   "cell_type": "markdown",
   "id": "8ccf0839",
   "metadata": {},
   "source": [
    "---\n",
    "### 3.2 split(sep=None, maxsplit=- 1) - Dividir cadena\n",
    "\n",
    "Retorna una lista con las palabras que componen la cadena de caracteres original, usando como separador el valor de sep. Si se utiliza el parámetro maxsplit, se realizan como máximo maxsplit divisiones."
   ]
  },
  {
   "cell_type": "code",
   "execution_count": 68,
   "id": "1090e847",
   "metadata": {},
   "outputs": [],
   "source": [
    "mi_cadena = 'En un lugar de la mancha de cuyo nombre no quiero acordarme, no ha mucho tiempo que vivía un hidalgo...'"
   ]
  },
  {
   "cell_type": "code",
   "execution_count": 26,
   "id": "290d974e",
   "metadata": {},
   "outputs": [
    {
     "name": "stdout",
     "output_type": "stream",
     "text": [
      "['En', 'un', 'lugar', 'de', 'la', 'mancha', 'de', 'cuyo', 'nombre', 'no', 'quiero', 'acordarme,', 'no', 'ha', 'mucho', 'tiempo', 'que', 'vivía', 'un', 'hidalgo...']\n"
     ]
    }
   ],
   "source": [
    "#Retorna una lista con las palabras que componen la cadena"
   ]
  },
  {
   "cell_type": "code",
   "execution_count": 27,
   "id": "c4a82dd2",
   "metadata": {},
   "outputs": [
    {
     "data": {
      "text/plain": [
       "['1', '2', '3']"
      ]
     },
     "execution_count": 27,
     "metadata": {},
     "output_type": "execute_result"
    }
   ],
   "source": [
    "'1,2,3'.split(',')"
   ]
  },
  {
   "cell_type": "code",
   "execution_count": 75,
   "id": "2ac612eb",
   "metadata": {},
   "outputs": [
    {
     "name": "stdout",
     "output_type": "stream",
     "text": [
      "['En un lugar de la mancha de cuyo nombre no quiero acordarme', ' no ha mucho tiempo que vivía un hidalgo...']\n",
      "Ahora vamos a acceder a la u de lugar:\n"
     ]
    },
    {
     "data": {
      "text/plain": [
       "'u'"
      ]
     },
     "execution_count": 75,
     "metadata": {},
     "output_type": "execute_result"
    }
   ],
   "source": [
    "lista = mi_cadena.split(',')\n",
    "#muestra los elementos de la lista\n",
    "print(lista)\n",
    "#muestra la 'u' de lugar\n",
    "print(f\"Ahora vamos a acceder a la u de lugar:\" )\n",
    "lista[0].find(\"lu\")+1\n",
    "mi_cadena[7]"
   ]
  },
  {
   "cell_type": "markdown",
   "id": "432d8084",
   "metadata": {},
   "source": [
    "### 3.3 upper() - Poner texto en mayúsculas"
   ]
  },
  {
   "cell_type": "code",
   "execution_count": 78,
   "id": "9a89225b",
   "metadata": {},
   "outputs": [
    {
     "data": {
      "text/plain": [
       "'EN UN LUGAR DE LA MANCHA DE CUYO NOMBRE NO QUIERO ACORDARME, NO HA MUCHO TIEMPO QUE VIVÍA UN HIDALGO...'"
      ]
     },
     "execution_count": 78,
     "metadata": {},
     "output_type": "execute_result"
    }
   ],
   "source": [
    "#Pon mi_cadena en mayúsculas\n",
    "mi_cadena.upper()"
   ]
  },
  {
   "cell_type": "markdown",
   "id": "1f9edc1c",
   "metadata": {},
   "source": [
    "### 3.4 title() - Poner texto formato título"
   ]
  },
  {
   "cell_type": "code",
   "execution_count": 79,
   "id": "44898ff6",
   "metadata": {},
   "outputs": [
    {
     "data": {
      "text/plain": [
       "'En Un Lugar De La Mancha De Cuyo Nombre No Quiero Acordarme, No Ha Mucho Tiempo Que Vivía Un Hidalgo...'"
      ]
     },
     "execution_count": 79,
     "metadata": {},
     "output_type": "execute_result"
    }
   ],
   "source": [
    "#Pon mi_cadena con formato título\n",
    "mi_cadena.title()"
   ]
  },
  {
   "cell_type": "markdown",
   "id": "b7f4addf",
   "metadata": {},
   "source": [
    "---\n",
    "### 3.5 Concatenación de Cadenas\n",
    "\n",
    "Las cadenas también se pueden concatener. Podemos hacerlo de dos formas.\n",
    "* Usando el +\n",
    "* Mediante el método join()"
   ]
  },
  {
   "cell_type": "code",
   "execution_count": 83,
   "id": "83039c1d",
   "metadata": {},
   "outputs": [],
   "source": [
    "primera_cadena = \"Mi nombre es \"\n",
    "segunda_cadena = \"Pedro\"\n",
    "# primera_cadena + segunda_cadena"
   ]
  },
  {
   "cell_type": "markdown",
   "id": "65daea22",
   "metadata": {},
   "source": [
    "---\n",
    "### 3.6 join() - Unir cadenas"
   ]
  },
  {
   "cell_type": "code",
   "execution_count": 85,
   "id": "5f1bfdbb",
   "metadata": {},
   "outputs": [
    {
     "data": {
      "text/plain": [
       "'Mi nombre es Pedro'"
      ]
     },
     "execution_count": 85,
     "metadata": {},
     "output_type": "execute_result"
    }
   ],
   "source": [
    "''.join([primera_cadena,segunda_cadena])\n"
   ]
  },
  {
   "cell_type": "code",
   "execution_count": 87,
   "id": "457dbd35",
   "metadata": {},
   "outputs": [
    {
     "data": {
      "text/plain": [
       "'Mi nombre es  --Pedro'"
      ]
     },
     "execution_count": 87,
     "metadata": {},
     "output_type": "execute_result"
    }
   ],
   "source": [
    "#Muestra el texto 'Mi nombre es --Pedro' usando join\n",
    "' --'.join([primera_cadena,segunda_cadena])"
   ]
  },
  {
   "cell_type": "markdown",
   "id": "06afb638",
   "metadata": {},
   "source": [
    "### 3.7 replace(old, new, count) - Reemplazar cadenas.\n",
    "\n",
    "Retorna una **copia de la cadena con todas las ocurrencias de la cadena old sustituidas por new.** Si se utiliza el parámetro count, solo se cambian las primeras count ocurrencias."
   ]
  },
  {
   "cell_type": "code",
   "execution_count": 48,
   "id": "2ae8d746",
   "metadata": {},
   "outputs": [
    {
     "name": "stdout",
     "output_type": "stream",
     "text": [
      "En in ligar de la Extremadira\n"
     ]
    }
   ],
   "source": [
    "texto = \"En un lugar de la mancha\"\n",
    "#Muestra En in ligar de la Extremadira\n",
    "\n",
    "print(texto)"
   ]
  },
  {
   "cell_type": "code",
   "execution_count": 49,
   "id": "58dc6178",
   "metadata": {},
   "outputs": [
    {
     "name": "stdout",
     "output_type": "stream",
     "text": [
      "En in liger de le Extremadira\n"
     ]
    }
   ],
   "source": [
    "#Muestra En in liger de le Extremadira\n",
    "\n",
    "print(texto)"
   ]
  },
  {
   "cell_type": "markdown",
   "id": "d02c29f1",
   "metadata": {},
   "source": [
    "### 3.7 Cadenas multilínea\n",
    "\n",
    "Si tu cadena de Python es muy larga, puede dividirla usando paréntesis o una barra invertida."
   ]
  },
  {
   "cell_type": "code",
   "execution_count": 88,
   "id": "19d775b6",
   "metadata": {},
   "outputs": [
    {
     "data": {
      "text/plain": [
       "'Es una frase muy larga que está hecha para probar..'"
      ]
     },
     "execution_count": 88,
     "metadata": {},
     "output_type": "execute_result"
    }
   ],
   "source": [
    "text = (\n",
    "    \"Es una frase muy \"\n",
    "    \"larga que está \"\n",
    "    \"hecha para probar..\"\n",
    ")\n",
    "\n",
    "text"
   ]
  },
  {
   "cell_type": "code",
   "execution_count": 89,
   "id": "292aca17",
   "metadata": {},
   "outputs": [
    {
     "data": {
      "text/plain": [
       "'Es una frase muy larga que está hecha para probar..'"
      ]
     },
     "execution_count": 89,
     "metadata": {},
     "output_type": "execute_result"
    }
   ],
   "source": [
    "text =\"Es una frase muy \"\\\n",
    "    \"larga que está \"\\\n",
    "    \"hecha para probar..\"\\\n",
    "\n",
    "text"
   ]
  },
  {
   "cell_type": "markdown",
   "id": "fbd1055a",
   "metadata": {},
   "source": [
    "---\n",
    "### 3.8 Detectar textos casi similares\n",
    "\n",
    "Al analizar artículos, diferentes artículos pueden ser casi similares pero no 100% idénticos, tal vez debido a la gramática o al cambio en dos o tres palabras (como publicación cruzada). \n",
    "\n",
    "**¿Cómo podemos detectar los artículos “casi similares” y descartar uno de ellos?** Ahí es cuando difflib.SequenceMatcher es útil.\n",
    "\n"
   ]
  },
  {
   "cell_type": "code",
   "execution_count": 93,
   "id": "3d920c60",
   "metadata": {},
   "outputs": [
    {
     "name": "stdout",
     "output_type": "stream",
     "text": [
      "0.9305555555555556\n",
      "0.93\n"
     ]
    }
   ],
   "source": [
    "from difflib import SequenceMatcher as dff\n",
    "\n",
    "text1 = 'Soy Gandalf el Blanco y en los albores de la tempestad, vengo a vosotros.'\n",
    "text2 = 'Soy Gandalf el Gris y en los albores de la tempestad, vengo a vosotros.'\n",
    "#Muestra cómo de similares son los textos anteriores\n",
    "print(dff(None,text1,text2).ratio())\n",
    "#Muestra lo mismo que antes pero sólo con 2 decimales\n",
    "print(f\"{dff(None,text1,text2).ratio():.2f}\")"
   ]
  },
  {
   "cell_type": "markdown",
   "id": "9f3dfc4e",
   "metadata": {},
   "source": [
    "---\n",
    "### 3.9 Obtener mejores coincidencias de una palabra.\n",
    "\n",
    "Si deseas obtener una lista de las mejores coincidencias para una determinada palabra, utiliza: \n",
    "\n",
    "**difflib.get_close_matches.**"
   ]
  },
  {
   "cell_type": "code",
   "execution_count": 104,
   "id": "09d53791",
   "metadata": {},
   "outputs": [
    {
     "data": {
      "text/plain": [
       "['libro', 'librero', 'librazo']"
      ]
     },
     "execution_count": 104,
     "metadata": {},
     "output_type": "execute_result"
    }
   ],
   "source": [
    "from difflib import get_close_matches\n",
    "\n",
    "tools = ['libreria', 'librero', 'estanteria', 'libro', 'librazo']\n",
    "\n",
    "#Muestra las mejores coincidencias\n",
    "get_close_matches(\"lib\",tools)\n"
   ]
  },
  {
   "cell_type": "markdown",
   "id": "5d517039",
   "metadata": {},
   "source": [
    "Para obtener coincidencias más cercanas, **aumenta el valor del argumento cutoff(predeterminado 0.6).**"
   ]
  },
  {
   "cell_type": "code",
   "execution_count": 113,
   "id": "a27dc9bc",
   "metadata": {},
   "outputs": [
    {
     "data": {
      "text/plain": [
       "['libro', 'librero', 'librazo']"
      ]
     },
     "execution_count": 113,
     "metadata": {},
     "output_type": "execute_result"
    }
   ],
   "source": [
    "#aumenta el valor del argumento cutoff(predeterminado 0.6).\n",
    "get_close_matches(\"libro\",tools,cutoff=0.8)"
   ]
  },
  {
   "cell_type": "markdown",
   "id": "b0dab376",
   "metadata": {},
   "source": [
    "---\n",
    "## 4. String Slicing"
   ]
  },
  {
   "cell_type": "markdown",
   "id": "d95a624d",
   "metadata": {},
   "source": [
    "Para cortar cadenas hay que tener en cuenta lo que vimos al inicio de este notebook, que cada letra ocupa una posición determinada comenzando siempre desde el 0.\n",
    "**Lo usaremos mucho con cadenas y Listas**\n",
    "\n",
    "**secuencia[i:j:k]**\n",
    "\n",
    "El primer parámetro **i indica el índice de comienzo del trozo** y el segundo **j el final, pero sin incluir**. El tercero **k** es opcional y, cuando está presente, indica el incremento con el que recorreremos el camino entre el principio y el fin, si no indicamos k, el incremento será de 1 en 1.\n",
    "\n",
    "Veamos algunos ejemplos:\n"
   ]
  },
  {
   "cell_type": "code",
   "execution_count": 115,
   "id": "f292cf21",
   "metadata": {},
   "outputs": [
    {
     "data": {
      "text/plain": [
       "'Paea'"
      ]
     },
     "execution_count": 115,
     "metadata": {},
     "output_type": "execute_result"
    }
   ],
   "source": [
    "a=\"Pradera\"\n",
    "len(a)\n",
    "a[0:7:2]"
   ]
  },
  {
   "cell_type": "markdown",
   "id": "a22966ff",
   "metadata": {},
   "source": [
    "Vamos a cortar un fragmento que abarca desde el carácter que tiene por índice 0 (es decir, el primero), hasta el que tiene 3 sin incluir (esto es, hasta el índice 2)."
   ]
  },
  {
   "cell_type": "code",
   "execution_count": 56,
   "id": "2ba8a0cf",
   "metadata": {},
   "outputs": [
    {
     "data": {
      "text/plain": [
       "'Pra'"
      ]
     },
     "execution_count": 56,
     "metadata": {},
     "output_type": "execute_result"
    }
   ],
   "source": [
    "#Corta un fragmento que abarca desde el primer carácter hasta el 3º (sin incluir)"
   ]
  },
  {
   "cell_type": "markdown",
   "id": "a064c947",
   "metadata": {},
   "source": [
    "Cortamos ahora un fragmento que va desde la posición 1 hasta la 6 sin incluirla"
   ]
  },
  {
   "cell_type": "code",
   "execution_count": 57,
   "id": "70622c79",
   "metadata": {},
   "outputs": [
    {
     "data": {
      "text/plain": [
       "'rader'"
      ]
     },
     "execution_count": 57,
     "metadata": {},
     "output_type": "execute_result"
    }
   ],
   "source": [
    "#Cortamos ahora un fragmento que va desde la posición 1 hasta la 6 sin incluirla\n"
   ]
  },
  {
   "cell_type": "markdown",
   "id": "32a3fce2",
   "metadata": {},
   "source": [
    "Y ahora recorremos la secuencia de dos en dos, empezando por el primero"
   ]
  },
  {
   "cell_type": "code",
   "execution_count": 59,
   "id": "724481f1",
   "metadata": {},
   "outputs": [
    {
     "name": "stdout",
     "output_type": "stream",
     "text": [
      "Pradera\n"
     ]
    },
    {
     "data": {
      "text/plain": [
       "'rdr'"
      ]
     },
     "execution_count": 59,
     "metadata": {},
     "output_type": "execute_result"
    }
   ],
   "source": [
    "print(a)\n",
    "#Y ahora recorre la secuencia de dos en dos, empezando por el primero\n"
   ]
  },
  {
   "cell_type": "code",
   "execution_count": 60,
   "id": "e677159d",
   "metadata": {},
   "outputs": [
    {
     "data": {
      "text/plain": [
       "'aea'"
      ]
     },
     "execution_count": 60,
     "metadata": {},
     "output_type": "execute_result"
    }
   ],
   "source": [
    "a[6:1:-2]"
   ]
  },
  {
   "cell_type": "markdown",
   "id": "d0714854",
   "metadata": {},
   "source": [
    "El siguiente ejemplo muestra la omisión del primer parámetro, indicando que comenzamos desde el principio"
   ]
  },
  {
   "cell_type": "code",
   "execution_count": 61,
   "id": "c2202a96",
   "metadata": {},
   "outputs": [
    {
     "data": {
      "text/plain": [
       "'Prad'"
      ]
     },
     "execution_count": 61,
     "metadata": {},
     "output_type": "execute_result"
    }
   ],
   "source": [
    "#vamos desde el inicio hasta el indice 4\n"
   ]
  },
  {
   "cell_type": "markdown",
   "id": "007a60f8",
   "metadata": {},
   "source": [
    "Omitimos el segundo parámetro, lo que significa que sigue **hasta el final**"
   ]
  },
  {
   "cell_type": "code",
   "execution_count": 62,
   "id": "de5dee09",
   "metadata": {},
   "outputs": [
    {
     "data": {
      "text/plain": [
       "'dera'"
      ]
     },
     "execution_count": 62,
     "metadata": {},
     "output_type": "execute_result"
    }
   ],
   "source": [
    "a[3:]#vamos desde el 3 hasta el final"
   ]
  },
  {
   "cell_type": "code",
   "execution_count": 64,
   "id": "3a1c8880",
   "metadata": {},
   "outputs": [
    {
     "name": "stdout",
     "output_type": "stream",
     "text": [
      "Pradera\n"
     ]
    },
    {
     "data": {
      "text/plain": [
       "'reda'"
      ]
     },
     "execution_count": 64,
     "metadata": {},
     "output_type": "execute_result"
    }
   ],
   "source": [
    "print(a)\n",
    "a[5:1:-1]"
   ]
  },
  {
   "cell_type": "markdown",
   "id": "1c99ff0d",
   "metadata": {},
   "source": [
    "**Analicemos esto con cuidado para asegurarnos de que lo entendemos bien:**\n",
    "\n",
    "Pradera\n",
    "\n",
    "Lo primero que quizás te llame la atención es que el primer parámetro es mayor que el segundo. Esto es así debido a que **estamos recorriendo la secuencia de derecha a izquierda. El índice de comienzo siempre será más alto (o al menos igual) que el índice de destino.**\n",
    "\n",
    "Comenzamos el corte hacia atrás desde el carácter que tiene por **índice 5: ‘r’.**\n",
    "\n",
    "¿Y dónde terminamos? En el inmediatamente anterior al indicado en el segundo parámetro. \n",
    "\n",
    "**Puesto que estamos recorriendo la secuencia al revés, el anterior del índice 1 no es el índice cero sino 2: ‘a’.**"
   ]
  },
  {
   "cell_type": "markdown",
   "id": "753115c5",
   "metadata": {},
   "source": [
    "---\n",
    "**Recorrer cadena de principio a fin:**"
   ]
  },
  {
   "cell_type": "code",
   "execution_count": 65,
   "id": "40a7f8cc",
   "metadata": {},
   "outputs": [
    {
     "data": {
      "text/plain": [
       "'Pradera'"
      ]
     },
     "execution_count": 65,
     "metadata": {},
     "output_type": "execute_result"
    }
   ],
   "source": [
    "a[::]"
   ]
  },
  {
   "cell_type": "markdown",
   "id": "7b41f9ec",
   "metadata": {},
   "source": [
    "---\n",
    "**Recorrer cadena de forma inversa:**"
   ]
  },
  {
   "cell_type": "code",
   "execution_count": 66,
   "id": "79521e5c",
   "metadata": {},
   "outputs": [
    {
     "data": {
      "text/plain": [
       "'aredarP'"
      ]
     },
     "execution_count": 66,
     "metadata": {},
     "output_type": "execute_result"
    }
   ],
   "source": [
    "a[::-1]"
   ]
  },
  {
   "cell_type": "markdown",
   "id": "e192c18d",
   "metadata": {},
   "source": [
    "---\n",
    "## 5. Ejercicios"
   ]
  },
  {
   "cell_type": "markdown",
   "id": "3e611ed1",
   "metadata": {},
   "source": [
    "___\n",
    "**1- Pide una cadena y un carácter por teclado (fuerza que sea un caracter) y muestra cuantas veces aparece el carácter en la cadena.**"
   ]
  },
  {
   "cell_type": "code",
   "execution_count": 117,
   "id": "b1b058a0",
   "metadata": {},
   "outputs": [
    {
     "name": "stdout",
     "output_type": "stream",
     "text": [
      "El caracter aparece : 6\n"
     ]
    }
   ],
   "source": [
    "cadena= str(input(\"Introduce la cadena: \"))\n",
    "caracter= str(input(\"Introduce el caracter: \"))\n",
    "\n",
    "if len(caracter)==1:\n",
    "   print(\"El caracter aparece :\",cadena.count(caracter))\n",
    "else:\n",
    "    print (\"El caracter debe ser de una sola letra\")"
   ]
  },
  {
   "cell_type": "markdown",
   "id": "d5015665",
   "metadata": {},
   "source": [
    "---\n",
    "**2- Suponiendo que hemos introducido una cadena por teclado que representa una frase (palabras separadas por espacios), realiza un programa que cuente cuantas palabras tiene.**"
   ]
  },
  {
   "cell_type": "code",
   "execution_count": 118,
   "id": "d4a0b523",
   "metadata": {},
   "outputs": [
    {
     "name": "stdout",
     "output_type": "stream",
     "text": [
      "El numero de palabras es de:  9\n"
     ]
    }
   ],
   "source": [
    "cadena=input(\"introduce cadena: \")\n",
    "lista=cadena.split(\" \")\n",
    "print(\"El numero de palabras es de: \",len(lista))"
   ]
  },
  {
   "cell_type": "markdown",
   "id": "15d47692",
   "metadata": {},
   "source": [
    "---\n",
    "**3- Pide una cadena y dos caracteres por teclado (fuerza que sea un caracter), sustituye la aparición del primer carácter en la cadena por el segundo carácter.**\n"
   ]
  },
  {
   "cell_type": "code",
   "execution_count": null,
   "id": "a900cd1d",
   "metadata": {},
   "outputs": [],
   "source": []
  },
  {
   "cell_type": "markdown",
   "id": "7bdcc2cc",
   "metadata": {},
   "source": [
    "---\n",
    "**4- Escribir un programa que pida al usuario que introduzca una frase en la consola y 2 vocales, y después muestre por pantalla la misma frase pero con las vocales introducidas en mayúsculas.** "
   ]
  },
  {
   "cell_type": "code",
   "execution_count": null,
   "id": "e9530531",
   "metadata": {},
   "outputs": [],
   "source": [
    "\n"
   ]
  },
  {
   "cell_type": "code",
   "execution_count": null,
   "id": "217ab2c9",
   "metadata": {},
   "outputs": [],
   "source": []
  }
 ],
 "metadata": {
  "kernelspec": {
   "display_name": "Python 3 (ipykernel)",
   "language": "python",
   "name": "python3"
  },
  "language_info": {
   "codemirror_mode": {
    "name": "ipython",
    "version": 3
   },
   "file_extension": ".py",
   "mimetype": "text/x-python",
   "name": "python",
   "nbconvert_exporter": "python",
   "pygments_lexer": "ipython3",
   "version": "3.11.7"
  }
 },
 "nbformat": 4,
 "nbformat_minor": 5
}
